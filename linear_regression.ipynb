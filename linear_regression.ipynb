{
 "cells": [
  {
   "cell_type": "markdown",
   "id": "0cb45871-ee1f-4d52-895c-bcebfb07d65e",
   "metadata": {},
   "source": [
    "# Linear regression\n",
    "\n",
    "We use **sklearn.linear_model.LinearRegression** to demonstrate the difference between **multiple linear regression & multivariate linear regression.**\n",
    "\n",
    "## - Definitions\n",
    "**1. Multiple linear regression:** Multiple inputs & ONE output **(y is a scalr)**, $$ y=f(x) $$<br>\n",
    "**2. Multivariate linear regression:** Multiple inputs & multiple outputs **(y is a vector)**, $$ y_1,y_2,...,y_m=f(x_1,x_2,...,x_n)$$\n",
    "\n",
    "#### - Reference\n",
    "[matlab](https://nl.mathworks.com/help/stats/linear-regression.html?s_tid=CRUX_lftnav) <br>\n",
    "[stackexchange](https://stats.stackexchange.com/a/224234)<br>"
   ]
  },
  {
   "cell_type": "code",
   "execution_count": 1,
   "id": "16732b8c-d6fd-4c5e-9dee-e27a78b2a5b0",
   "metadata": {},
   "outputs": [],
   "source": [
    "from random import random\n",
    "\n",
    "import pandas as pd\n",
    "import numpy as np\n",
    "\n",
    "from sklearn import linear_model\n",
    "\n",
    "from IPython.core.interactiveshell import InteractiveShell\n",
    "InteractiveShell.ast_node_interactivity = 'all'"
   ]
  },
  {
   "cell_type": "markdown",
   "id": "702f71d3-a335-4160-8ccb-6c32bed2cfdf",
   "metadata": {},
   "source": [
    "## Dummy Dataset"
   ]
  },
  {
   "cell_type": "code",
   "execution_count": 2,
   "id": "192d90c6-30b8-45fa-a2fd-1a1126b0bb12",
   "metadata": {},
   "outputs": [],
   "source": [
    "lr = lambda : [random() for i in range(100)]\n",
    "x = pd.DataFrame({'x1': lr(), 'x2':lr(), 'x3':lr()})\n",
    "\n",
    "y = x.x1 + x.x2 * 2 + x.x3 * 3 + 4\n",
    "\n",
    "# Expected regression results: \n",
    "# R2 = 1, \n",
    "# coefficient=[1,2,3]\n",
    "# bias=4"
   ]
  },
  {
   "cell_type": "markdown",
   "id": "ed37384d-1656-4d7d-80a5-bcf32a128dac",
   "metadata": {},
   "source": [
    "## Let's begin with Multiple linear regression"
   ]
  },
  {
   "cell_type": "code",
   "execution_count": 3,
   "id": "1e61b889-7e72-4580-a751-f951a2b21f26",
   "metadata": {},
   "outputs": [
    {
     "data": {
      "text/plain": [
       "LinearRegression()"
      ]
     },
     "execution_count": 3,
     "metadata": {},
     "output_type": "execute_result"
    }
   ],
   "source": [
    "# multiple linear regression\n",
    "model = linear_model.LinearRegression()\n",
    "model.fit( x[[\"x1\", \"x2\", \"x3\"]], y)"
   ]
  },
  {
   "cell_type": "code",
   "execution_count": 4,
   "id": "5434c3fb-e66c-4d82-9e41-406f6b3f131e",
   "metadata": {},
   "outputs": [
    {
     "data": {
      "text/plain": [
       "1.0"
      ]
     },
     "execution_count": 4,
     "metadata": {},
     "output_type": "execute_result"
    },
    {
     "data": {
      "text/plain": [
       "array([1., 2., 3.])"
      ]
     },
     "execution_count": 4,
     "metadata": {},
     "output_type": "execute_result"
    },
    {
     "data": {
      "text/plain": [
       "4.000000000000001"
      ]
     },
     "execution_count": 4,
     "metadata": {},
     "output_type": "execute_result"
    }
   ],
   "source": [
    "# check results\n",
    "model.score(x[[\"x1\", \"x2\", \"x3\"]], y) # R2\n",
    "model.coef_ # slopes\n",
    "model.intercept_ # bias"
   ]
  },
  {
   "cell_type": "markdown",
   "id": "8408a943-e60e-4c67-a112-5b2985632d09",
   "metadata": {},
   "source": [
    "## What happen if we input multiple y in LinearRegression()? \n",
    "Let's use y to create two targets, y1 & y2 and see how LinearRegression does."
   ]
  },
  {
   "cell_type": "code",
   "execution_count": 5,
   "id": "67b61613-a6f7-4fc5-8ff3-ca6689c68041",
   "metadata": {},
   "outputs": [
    {
     "data": {
      "text/plain": [
       "LinearRegression()"
      ]
     },
     "execution_count": 5,
     "metadata": {},
     "output_type": "execute_result"
    }
   ],
   "source": [
    "# multivariate linear regression\n",
    "y_multiple = pd.DataFrame({\"y1\":y, \"y2\":y})\n",
    "model.fit( x[[\"x1\", \"x2\", \"x3\"]], y_multiple)"
   ]
  },
  {
   "cell_type": "code",
   "execution_count": 6,
   "id": "5d0bee85-72bc-4c69-9c9c-cd8727cf0db7",
   "metadata": {},
   "outputs": [
    {
     "data": {
      "text/plain": [
       "1.0"
      ]
     },
     "execution_count": 6,
     "metadata": {},
     "output_type": "execute_result"
    },
    {
     "data": {
      "text/plain": [
       "array([[1., 2., 3.],\n",
       "       [1., 2., 3.]])"
      ]
     },
     "execution_count": 6,
     "metadata": {},
     "output_type": "execute_result"
    },
    {
     "data": {
      "text/plain": [
       "array([4., 4.])"
      ]
     },
     "execution_count": 6,
     "metadata": {},
     "output_type": "execute_result"
    }
   ],
   "source": [
    "# check results\n",
    "model.score(x[[\"x1\", \"x2\", \"x3\"]], y_multiple)\n",
    "model.coef_ # a (2,3) matrix\n",
    "model.intercept_ # a (2,) vector"
   ]
  },
  {
   "cell_type": "markdown",
   "id": "36b3bab9-ed1f-4ddf-a1ed-e1dfed82a0e7",
   "metadata": {},
   "source": [
    "## Ans: It becomes multivariate linear regression, meaning that LinearRegression fits two y's at once.\n",
    "\n",
    "\n",
    "Suppose you have k samples, the regression is calculated on both y1 & y2,\n",
    "$$(x_{11}, x_{21}, x_{31}) -> (y_{11}, y_{21})$$ <br>\n",
    "$$(x_{12}, x_{22}, x_{32}) -> (y_{12}, y_{22})$$ <br>\n",
    "$$ ........... $$ <br>\n",
    "$$(x_{1k}, x_{2k}, x_{3k}) -> (y_{1k}, y_{2k})$$ <br>"
   ]
  },
  {
   "cell_type": "markdown",
   "id": "f8963489-0aea-4f78-91b8-b081819984c9",
   "metadata": {},
   "source": [
    "### What if I want one regressor for each y? Ans: MultiOutputRegressor"
   ]
  },
  {
   "cell_type": "code",
   "execution_count": 7,
   "id": "e293bcd8-9e48-446b-800f-020990828a0d",
   "metadata": {},
   "outputs": [],
   "source": [
    "from sklearn.multioutput import MultiOutputRegressor\n",
    "\n",
    "wrapper = MultiOutputRegressor(model).fit(x[[\"x1\", \"x2\", \"x3\"]], y_multiple)"
   ]
  },
  {
   "cell_type": "code",
   "execution_count": 8,
   "id": "087a23db-539b-4c07-9b36-841380d0957a",
   "metadata": {},
   "outputs": [
    {
     "data": {
      "text/plain": [
       "[LinearRegression(), LinearRegression()]"
      ]
     },
     "execution_count": 8,
     "metadata": {},
     "output_type": "execute_result"
    },
    {
     "data": {
      "text/plain": [
       "1.0"
      ]
     },
     "execution_count": 8,
     "metadata": {},
     "output_type": "execute_result"
    },
    {
     "data": {
      "text/plain": [
       "array([1., 2., 3.])"
      ]
     },
     "execution_count": 8,
     "metadata": {},
     "output_type": "execute_result"
    }
   ],
   "source": [
    "# check results\n",
    "wrapper.estimators_\n",
    "wrapper.estimators_[0].score(x[[\"x1\", \"x2\", \"x3\"]], y_multiple['y1']) # only ONE y\n",
    "wrapper.estimators_[0].coef_"
   ]
  },
  {
   "cell_type": "code",
   "execution_count": null,
   "id": "e8b05428-582b-43d5-b28f-7cf93fd7bd51",
   "metadata": {},
   "outputs": [],
   "source": []
  }
 ],
 "metadata": {
  "kernelspec": {
   "display_name": "Python 3 (ipykernel)",
   "language": "python",
   "name": "python3"
  },
  "language_info": {
   "codemirror_mode": {
    "name": "ipython",
    "version": 3
   },
   "file_extension": ".py",
   "mimetype": "text/x-python",
   "name": "python",
   "nbconvert_exporter": "python",
   "pygments_lexer": "ipython3",
   "version": "3.9.6"
  }
 },
 "nbformat": 4,
 "nbformat_minor": 5
}
